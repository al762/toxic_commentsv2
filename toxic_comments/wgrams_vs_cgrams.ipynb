{
 "cells": [
  {
   "cell_type": "code",
   "execution_count": 1,
   "metadata": {},
   "outputs": [],
   "source": [
    "import re\n",
    "import sys\n",
    "import string\n",
    "import time\n",
    "import pickle\n",
    "import pandas as pd\n",
    "import numpy as np\n",
    "import NbSvmClassifier\n",
    "from sklearn.linear_model import LogisticRegression\n",
    "from sklearn.model_selection import KFold\n",
    "from sklearn.model_selection import cross_val_score\n",
    "from sklearn.feature_extraction.text import CountVectorizer, TfidfVectorizer\n",
    "from sklearn.pipeline import Pipeline\n",
    "from sklearn.naive_bayes import MultinomialNB"
   ]
  },
  {
   "cell_type": "code",
   "execution_count": 2,
   "metadata": {},
   "outputs": [
    {
     "data": {
      "text/html": [
       "<div>\n",
       "<style scoped>\n",
       "    .dataframe tbody tr th:only-of-type {\n",
       "        vertical-align: middle;\n",
       "    }\n",
       "\n",
       "    .dataframe tbody tr th {\n",
       "        vertical-align: top;\n",
       "    }\n",
       "\n",
       "    .dataframe thead th {\n",
       "        text-align: right;\n",
       "    }\n",
       "</style>\n",
       "<table border=\"1\" class=\"dataframe\">\n",
       "  <thead>\n",
       "    <tr style=\"text-align: right;\">\n",
       "      <th></th>\n",
       "      <th>id</th>\n",
       "      <th>comment_text</th>\n",
       "      <th>toxic</th>\n",
       "      <th>severe_toxic</th>\n",
       "      <th>obscene</th>\n",
       "      <th>threat</th>\n",
       "      <th>insult</th>\n",
       "      <th>identity_hate</th>\n",
       "    </tr>\n",
       "  </thead>\n",
       "  <tbody>\n",
       "    <tr>\n",
       "      <th>0</th>\n",
       "      <td>22256635</td>\n",
       "      <td>Nonsense?  kiss off, geek. what I said is true...</td>\n",
       "      <td>1</td>\n",
       "      <td>0</td>\n",
       "      <td>0</td>\n",
       "      <td>0</td>\n",
       "      <td>0</td>\n",
       "      <td>0</td>\n",
       "    </tr>\n",
       "    <tr>\n",
       "      <th>1</th>\n",
       "      <td>27450690</td>\n",
       "      <td>\"\\n\\n Please do not vandalize pages, as you di...</td>\n",
       "      <td>0</td>\n",
       "      <td>0</td>\n",
       "      <td>0</td>\n",
       "      <td>0</td>\n",
       "      <td>0</td>\n",
       "      <td>0</td>\n",
       "    </tr>\n",
       "    <tr>\n",
       "      <th>2</th>\n",
       "      <td>54037174</td>\n",
       "      <td>\"\\n\\n \"\"Points of interest\"\" \\n\\nI removed the...</td>\n",
       "      <td>0</td>\n",
       "      <td>0</td>\n",
       "      <td>0</td>\n",
       "      <td>0</td>\n",
       "      <td>0</td>\n",
       "      <td>0</td>\n",
       "    </tr>\n",
       "    <tr>\n",
       "      <th>3</th>\n",
       "      <td>77493077</td>\n",
       "      <td>Asking some his nationality is a Racial offenc...</td>\n",
       "      <td>0</td>\n",
       "      <td>0</td>\n",
       "      <td>0</td>\n",
       "      <td>0</td>\n",
       "      <td>0</td>\n",
       "      <td>0</td>\n",
       "    </tr>\n",
       "    <tr>\n",
       "      <th>4</th>\n",
       "      <td>79357270</td>\n",
       "      <td>The reader here is not going by my say so for ...</td>\n",
       "      <td>0</td>\n",
       "      <td>0</td>\n",
       "      <td>0</td>\n",
       "      <td>0</td>\n",
       "      <td>0</td>\n",
       "      <td>0</td>\n",
       "    </tr>\n",
       "  </tbody>\n",
       "</table>\n",
       "</div>"
      ],
      "text/plain": [
       "         id                                       comment_text  toxic  \\\n",
       "0  22256635  Nonsense?  kiss off, geek. what I said is true...      1   \n",
       "1  27450690  \"\\n\\n Please do not vandalize pages, as you di...      0   \n",
       "2  54037174  \"\\n\\n \"\"Points of interest\"\" \\n\\nI removed the...      0   \n",
       "3  77493077  Asking some his nationality is a Racial offenc...      0   \n",
       "4  79357270  The reader here is not going by my say so for ...      0   \n",
       "\n",
       "   severe_toxic  obscene  threat  insult  identity_hate  \n",
       "0             0        0       0       0              0  \n",
       "1             0        0       0       0              0  \n",
       "2             0        0       0       0              0  \n",
       "3             0        0       0       0              0  \n",
       "4             0        0       0       0              0  "
      ]
     },
     "execution_count": 2,
     "metadata": {},
     "output_type": "execute_result"
    }
   ],
   "source": [
    "# loading training data\n",
    "train = pd.read_csv('data/train.csv')\n",
    "train.head()"
   ]
  },
  {
   "cell_type": "markdown",
   "metadata": {},
   "source": [
    "### Data preprocessing"
   ]
  },
  {
   "cell_type": "code",
   "execution_count": 3,
   "metadata": {},
   "outputs": [],
   "source": [
    "def comments_preprocessing(series):\n",
    "    series.fillna(\"unknown\", inplace=True)\n",
    "    series = series.apply(lambda x: str(x))\n",
    "    series = series.apply(lambda x: x.lower())\n",
    "    # series = series.apply(lambda x: x.translate(str.maketrans('','',string.punctuation)))\n",
    "    series = series.apply(lambda x: x.replace('\\n',''))\n",
    "    series = series.apply(lambda x: x.replace('\\r',''))\n",
    "    return series"
   ]
  },
  {
   "cell_type": "code",
   "execution_count": 4,
   "metadata": {},
   "outputs": [],
   "source": [
    "train['comment_text'] = comments_preprocessing(train['comment_text'])"
   ]
  },
  {
   "cell_type": "code",
   "execution_count": 5,
   "metadata": {},
   "outputs": [
    {
     "name": "stdout",
     "output_type": "stream",
     "text": [
      "['toxic', 'severe_toxic', 'obscene', 'threat', 'insult', 'identity_hate']\n"
     ]
    }
   ],
   "source": [
    "categories = train.columns.values.tolist()[2:]\n",
    "toxic_dataframes = [train[train[x] == 1] for x in categories]\n",
    "print(categories)"
   ]
  },
  {
   "cell_type": "code",
   "execution_count": 6,
   "metadata": {},
   "outputs": [],
   "source": [
    "re_tok = re.compile(f'([{string.punctuation}“”¨«»®´·º½¾¿¡§£₤‘’])')\n",
    "def tokenize(s): \n",
    "    output = re_tok.sub(r' \\1 ', s).split()\n",
    "    return output"
   ]
  },
  {
   "cell_type": "markdown",
   "metadata": {},
   "source": [
    "### Naive Bayes SVM (TF-IDF trained with all text)"
   ]
  },
  {
   "cell_type": "code",
   "execution_count": 17,
   "metadata": {},
   "outputs": [],
   "source": [
    "word_vec = TfidfVectorizer(ngram_range=(1,2), tokenizer=tokenize,\n",
    "               min_df=3, max_df=0.9, strip_accents='unicode', use_idf=True,\n",
    "               smooth_idf=True, sublinear_tf=True)\n",
    "X_nbsvm = word_vec.fit_transform(train['comment_text'])\n",
    "Y_nbsvm = train.drop(columns=['comment_text'])"
   ]
  },
  {
   "cell_type": "code",
   "execution_count": 18,
   "metadata": {
    "collapsed": true
   },
   "outputs": [
    {
     "name": "stdout",
     "output_type": "stream",
     "text": [
      "scoring toxic\n",
      "scoring severe_toxic\n",
      "scoring obscene\n",
      "scoring threat\n",
      "scoring insult\n",
      "scoring identity_hate\n"
     ]
    },
    {
     "data": {
      "text/html": [
       "<div>\n",
       "<style scoped>\n",
       "    .dataframe tbody tr th:only-of-type {\n",
       "        vertical-align: middle;\n",
       "    }\n",
       "\n",
       "    .dataframe tbody tr th {\n",
       "        vertical-align: top;\n",
       "    }\n",
       "\n",
       "    .dataframe thead th {\n",
       "        text-align: right;\n",
       "    }\n",
       "</style>\n",
       "<table border=\"1\" class=\"dataframe\">\n",
       "  <thead>\n",
       "    <tr style=\"text-align: right;\">\n",
       "      <th></th>\n",
       "      <th>toxic</th>\n",
       "      <th>severe_toxic</th>\n",
       "      <th>obscene</th>\n",
       "      <th>threat</th>\n",
       "      <th>insult</th>\n",
       "      <th>identity_hate</th>\n",
       "      <th>avg</th>\n",
       "    </tr>\n",
       "  </thead>\n",
       "  <tbody>\n",
       "    <tr>\n",
       "      <th>0</th>\n",
       "      <td>0.112920</td>\n",
       "      <td>0.031116</td>\n",
       "      <td>0.060784</td>\n",
       "      <td>0.012410</td>\n",
       "      <td>0.076840</td>\n",
       "      <td>0.028390</td>\n",
       "      <td>0.053743</td>\n",
       "    </tr>\n",
       "    <tr>\n",
       "      <th>1</th>\n",
       "      <td>0.114074</td>\n",
       "      <td>0.031234</td>\n",
       "      <td>0.059799</td>\n",
       "      <td>0.012346</td>\n",
       "      <td>0.080078</td>\n",
       "      <td>0.027426</td>\n",
       "      <td>0.054159</td>\n",
       "    </tr>\n",
       "    <tr>\n",
       "      <th>2</th>\n",
       "      <td>0.110993</td>\n",
       "      <td>0.031741</td>\n",
       "      <td>0.065447</td>\n",
       "      <td>0.010090</td>\n",
       "      <td>0.077035</td>\n",
       "      <td>0.027725</td>\n",
       "      <td>0.053838</td>\n",
       "    </tr>\n",
       "    <tr>\n",
       "      <th>3</th>\n",
       "      <td>0.108864</td>\n",
       "      <td>0.028352</td>\n",
       "      <td>0.066117</td>\n",
       "      <td>0.011350</td>\n",
       "      <td>0.081266</td>\n",
       "      <td>0.029310</td>\n",
       "      <td>0.054210</td>\n",
       "    </tr>\n",
       "    <tr>\n",
       "      <th>4</th>\n",
       "      <td>0.107909</td>\n",
       "      <td>0.027271</td>\n",
       "      <td>0.061639</td>\n",
       "      <td>0.011360</td>\n",
       "      <td>0.079025</td>\n",
       "      <td>0.028637</td>\n",
       "      <td>0.052640</td>\n",
       "    </tr>\n",
       "  </tbody>\n",
       "</table>\n",
       "</div>"
      ],
      "text/plain": [
       "      toxic  severe_toxic   obscene    threat    insult  identity_hate  \\\n",
       "0  0.112920      0.031116  0.060784  0.012410  0.076840       0.028390   \n",
       "1  0.114074      0.031234  0.059799  0.012346  0.080078       0.027426   \n",
       "2  0.110993      0.031741  0.065447  0.010090  0.077035       0.027725   \n",
       "3  0.108864      0.028352  0.066117  0.011350  0.081266       0.029310   \n",
       "4  0.107909      0.027271  0.061639  0.011360  0.079025       0.028637   \n",
       "\n",
       "        avg  \n",
       "0  0.053743  \n",
       "1  0.054159  \n",
       "2  0.053838  \n",
       "3  0.054210  \n",
       "4  0.052640  "
      ]
     },
     "execution_count": 18,
     "metadata": {},
     "output_type": "execute_result"
    }
   ],
   "source": [
    "scores_nbsvm = pd.DataFrame()\n",
    "clf_nbsvm = NbSvmClassifier.NbSvmClassifier()\n",
    "for i, column in enumerate(categories):\n",
    "    print('scoring', column)\n",
    "    scores_nbsvm[column] = -1 * cross_val_score(clf_nbsvm, X_nbsvm, Y_nbsvm[column], cv=5, scoring='neg_log_loss')\n",
    "scores_nbsvm['avg'] = scores_nbsvm.mean(axis=1)\n",
    "scores_nbsvm.head()"
   ]
  },
  {
   "cell_type": "markdown",
   "metadata": {},
   "source": [
    "### Character N-Grams (TF-IDF trained with train's comments only)"
   ]
  },
  {
   "cell_type": "code",
   "execution_count": 12,
   "metadata": {
    "collapsed": true
   },
   "outputs": [
    {
     "name": "stdout",
     "output_type": "stream",
     "text": [
      "scoring toxic\n",
      "scoring severe_toxic\n",
      "scoring obscene\n",
      "scoring threat\n"
     ]
    },
    {
     "name": "stderr",
     "output_type": "stream",
     "text": [
      "/usr/local/lib/python3.6/dist-packages/sklearn/linear_model/sag.py:326: ConvergenceWarning: The max_iter was reached which means the coef_ did not converge\n",
      "  \"the coef_ did not converge\", ConvergenceWarning)\n",
      "/usr/local/lib/python3.6/dist-packages/sklearn/linear_model/sag.py:326: ConvergenceWarning: The max_iter was reached which means the coef_ did not converge\n",
      "  \"the coef_ did not converge\", ConvergenceWarning)\n",
      "/usr/local/lib/python3.6/dist-packages/sklearn/linear_model/sag.py:326: ConvergenceWarning: The max_iter was reached which means the coef_ did not converge\n",
      "  \"the coef_ did not converge\", ConvergenceWarning)\n",
      "/usr/local/lib/python3.6/dist-packages/sklearn/linear_model/sag.py:326: ConvergenceWarning: The max_iter was reached which means the coef_ did not converge\n",
      "  \"the coef_ did not converge\", ConvergenceWarning)\n",
      "/usr/local/lib/python3.6/dist-packages/sklearn/linear_model/sag.py:326: ConvergenceWarning: The max_iter was reached which means the coef_ did not converge\n",
      "  \"the coef_ did not converge\", ConvergenceWarning)\n"
     ]
    },
    {
     "name": "stdout",
     "output_type": "stream",
     "text": [
      "scoring insult\n",
      "scoring identity_hate\n"
     ]
    },
    {
     "name": "stderr",
     "output_type": "stream",
     "text": [
      "/usr/local/lib/python3.6/dist-packages/sklearn/linear_model/sag.py:326: ConvergenceWarning: The max_iter was reached which means the coef_ did not converge\n",
      "  \"the coef_ did not converge\", ConvergenceWarning)\n",
      "/usr/local/lib/python3.6/dist-packages/sklearn/linear_model/sag.py:326: ConvergenceWarning: The max_iter was reached which means the coef_ did not converge\n",
      "  \"the coef_ did not converge\", ConvergenceWarning)\n",
      "/usr/local/lib/python3.6/dist-packages/sklearn/linear_model/sag.py:326: ConvergenceWarning: The max_iter was reached which means the coef_ did not converge\n",
      "  \"the coef_ did not converge\", ConvergenceWarning)\n",
      "/usr/local/lib/python3.6/dist-packages/sklearn/linear_model/sag.py:326: ConvergenceWarning: The max_iter was reached which means the coef_ did not converge\n",
      "  \"the coef_ did not converge\", ConvergenceWarning)\n",
      "/usr/local/lib/python3.6/dist-packages/sklearn/linear_model/sag.py:326: ConvergenceWarning: The max_iter was reached which means the coef_ did not converge\n",
      "  \"the coef_ did not converge\", ConvergenceWarning)\n"
     ]
    },
    {
     "data": {
      "text/html": [
       "<div>\n",
       "<style scoped>\n",
       "    .dataframe tbody tr th:only-of-type {\n",
       "        vertical-align: middle;\n",
       "    }\n",
       "\n",
       "    .dataframe tbody tr th {\n",
       "        vertical-align: top;\n",
       "    }\n",
       "\n",
       "    .dataframe thead th {\n",
       "        text-align: right;\n",
       "    }\n",
       "</style>\n",
       "<table border=\"1\" class=\"dataframe\">\n",
       "  <thead>\n",
       "    <tr style=\"text-align: right;\">\n",
       "      <th></th>\n",
       "      <th>toxic</th>\n",
       "      <th>severe_toxic</th>\n",
       "      <th>obscene</th>\n",
       "      <th>threat</th>\n",
       "      <th>insult</th>\n",
       "      <th>identity_hate</th>\n",
       "      <th>avg</th>\n",
       "    </tr>\n",
       "  </thead>\n",
       "  <tbody>\n",
       "    <tr>\n",
       "      <th>0</th>\n",
       "      <td>0.109293</td>\n",
       "      <td>0.027826</td>\n",
       "      <td>0.055597</td>\n",
       "      <td>0.010075</td>\n",
       "      <td>0.074861</td>\n",
       "      <td>0.024372</td>\n",
       "      <td>0.050337</td>\n",
       "    </tr>\n",
       "    <tr>\n",
       "      <th>1</th>\n",
       "      <td>0.110451</td>\n",
       "      <td>0.025755</td>\n",
       "      <td>0.055782</td>\n",
       "      <td>0.010618</td>\n",
       "      <td>0.073950</td>\n",
       "      <td>0.022230</td>\n",
       "      <td>0.049797</td>\n",
       "    </tr>\n",
       "    <tr>\n",
       "      <th>2</th>\n",
       "      <td>0.107113</td>\n",
       "      <td>0.027857</td>\n",
       "      <td>0.062183</td>\n",
       "      <td>0.008863</td>\n",
       "      <td>0.075983</td>\n",
       "      <td>0.023910</td>\n",
       "      <td>0.050985</td>\n",
       "    </tr>\n",
       "    <tr>\n",
       "      <th>3</th>\n",
       "      <td>0.105024</td>\n",
       "      <td>0.025472</td>\n",
       "      <td>0.061823</td>\n",
       "      <td>0.010080</td>\n",
       "      <td>0.077696</td>\n",
       "      <td>0.024324</td>\n",
       "      <td>0.050737</td>\n",
       "    </tr>\n",
       "    <tr>\n",
       "      <th>4</th>\n",
       "      <td>0.107918</td>\n",
       "      <td>0.025592</td>\n",
       "      <td>0.059196</td>\n",
       "      <td>0.010148</td>\n",
       "      <td>0.079212</td>\n",
       "      <td>0.024973</td>\n",
       "      <td>0.051173</td>\n",
       "    </tr>\n",
       "  </tbody>\n",
       "</table>\n",
       "</div>"
      ],
      "text/plain": [
       "      toxic  severe_toxic   obscene    threat    insult  identity_hate  \\\n",
       "0  0.109293      0.027826  0.055597  0.010075  0.074861       0.024372   \n",
       "1  0.110451      0.025755  0.055782  0.010618  0.073950       0.022230   \n",
       "2  0.107113      0.027857  0.062183  0.008863  0.075983       0.023910   \n",
       "3  0.105024      0.025472  0.061823  0.010080  0.077696       0.024324   \n",
       "4  0.107918      0.025592  0.059196  0.010148  0.079212       0.024973   \n",
       "\n",
       "        avg  \n",
       "0  0.050337  \n",
       "1  0.049797  \n",
       "2  0.050985  \n",
       "3  0.050737  \n",
       "4  0.051173  "
      ]
     },
     "execution_count": 12,
     "metadata": {},
     "output_type": "execute_result"
    }
   ],
   "source": [
    "scores_chars = pd.DataFrame()\n",
    "X_chars = train['comment_text']\n",
    "Y_chars = train.drop(columns=['comment_text'])\n",
    "clf_chars = Pipeline([('tfidf', TfidfVectorizer(sublinear_tf=True,analyzer='char', ngram_range=(1,4), \n",
    "                                                max_features=20000, min_df=2)), \n",
    "                      ('LR', LogisticRegression(C=10.0, solver='sag', max_iter=200, n_jobs=1))])\n",
    "for column in categories:\n",
    "    print('scoring', column)\n",
    "    scores_chars[column] = -1 * cross_val_score(clf_chars, X_chars, Y_chars[column], cv=5, scoring='neg_log_loss')\n",
    "scores_chars['avg'] = scores_chars.mean(axis=1)\n",
    "scores_chars.head()"
   ]
  },
  {
   "cell_type": "code",
   "execution_count": null,
   "metadata": {},
   "outputs": [
    {
     "name": "stdout",
     "output_type": "stream",
     "text": [
      "beginning regression\n"
     ]
    }
   ],
   "source": [
    "char_vec = TfidfVectorizer(sublinear_tf=True,analyzer='char', ngram_range=(1,4), \n",
    "                          max_features=20000, min_df=2)\n",
    "X_chars = char_vec.fit_transform(train['comment_text'])\n",
    "Y_chars = train.drop(columns=['comment_text'])\n",
    "\n",
    "print('beginning regression')\n",
    "scores_chars = pd.DataFrame()\n",
    "clf_chars = LogisticRegression(C=10.0, solver='sag', max_iter=200, n_jobs=1)\n",
    "for column in categories:\n",
    "    print('scoring', column)\n",
    "    scores_chars[column] = -1 * cross_val_score(clf_chars, X_chars, Y_chars[column], cv=5, scoring='neg_log_loss')\n",
    "scores_chars['avg'] = scores_chars.mean(axis=1)\n",
    "scores_chars.head()"
   ]
  },
  {
   "cell_type": "code",
   "execution_count": 48,
   "metadata": {},
   "outputs": [
    {
     "data": {
      "text/html": [
       "<div>\n",
       "<style scoped>\n",
       "    .dataframe tbody tr th:only-of-type {\n",
       "        vertical-align: middle;\n",
       "    }\n",
       "\n",
       "    .dataframe tbody tr th {\n",
       "        vertical-align: top;\n",
       "    }\n",
       "\n",
       "    .dataframe thead th {\n",
       "        text-align: right;\n",
       "    }\n",
       "</style>\n",
       "<table border=\"1\" class=\"dataframe\">\n",
       "  <thead>\n",
       "    <tr style=\"text-align: right;\">\n",
       "      <th></th>\n",
       "      <th>category</th>\n",
       "      <th>chars</th>\n",
       "      <th>nbsvm</th>\n",
       "    </tr>\n",
       "  </thead>\n",
       "  <tbody>\n",
       "    <tr>\n",
       "      <th>0</th>\n",
       "      <td>toxic</td>\n",
       "      <td>0.107960</td>\n",
       "      <td>0.109777</td>\n",
       "    </tr>\n",
       "    <tr>\n",
       "      <th>1</th>\n",
       "      <td>severe_toxic</td>\n",
       "      <td>0.026500</td>\n",
       "      <td>0.029690</td>\n",
       "    </tr>\n",
       "    <tr>\n",
       "      <th>2</th>\n",
       "      <td>obscene</td>\n",
       "      <td>0.058916</td>\n",
       "      <td>0.062111</td>\n",
       "    </tr>\n",
       "    <tr>\n",
       "      <th>3</th>\n",
       "      <td>threat</td>\n",
       "      <td>0.009957</td>\n",
       "      <td>0.011384</td>\n",
       "    </tr>\n",
       "    <tr>\n",
       "      <th>4</th>\n",
       "      <td>insult</td>\n",
       "      <td>0.076340</td>\n",
       "      <td>0.078019</td>\n",
       "    </tr>\n",
       "    <tr>\n",
       "      <th>5</th>\n",
       "      <td>identity_hate</td>\n",
       "      <td>0.023962</td>\n",
       "      <td>0.027819</td>\n",
       "    </tr>\n",
       "  </tbody>\n",
       "</table>\n",
       "</div>"
      ],
      "text/plain": [
       "        category     chars     nbsvm\n",
       "0          toxic  0.107960  0.109777\n",
       "1   severe_toxic  0.026500  0.029690\n",
       "2        obscene  0.058916  0.062111\n",
       "3         threat  0.009957  0.011384\n",
       "4         insult  0.076340  0.078019\n",
       "5  identity_hate  0.023962  0.027819"
      ]
     },
     "execution_count": 48,
     "metadata": {},
     "output_type": "execute_result"
    }
   ],
   "source": [
    "mean_nbsvm = scores_nbsvm.mean()\n",
    "mean_chars = scores_chars.mean()\n",
    "mean_df = pd.DataFrame({'category': pd.Series(categories), \n",
    "                        'nbsvm': pd.Series(mean_nbsvm.tolist()[:6]),\n",
    "                        'chars': pd.Series(mean_chars.tolist()[:6])})\n",
    "mean_df.head(7)"
   ]
  },
  {
   "cell_type": "markdown",
   "metadata": {},
   "source": [
    "### Using trained model to predict test data"
   ]
  },
  {
   "cell_type": "code",
   "execution_count": 9,
   "metadata": {},
   "outputs": [
    {
     "name": "stdout",
     "output_type": "stream",
     "text": [
      "<class 'pandas.core.frame.DataFrame'>\n",
      "<class 'pandas.core.frame.DataFrame'>\n"
     ]
    }
   ],
   "source": [
    "# load prediction dataframes\n",
    "char_pred = pickle.load(open('pickles/predictions_char_grams.p', 'rb'))\n",
    "word_pred = pickle.load(open('pickles/predictions_word_grams.p', 'rb'))"
   ]
  },
  {
   "cell_type": "code",
   "execution_count": 10,
   "metadata": {
    "scrolled": true
   },
   "outputs": [
    {
     "data": {
      "text/html": [
       "<div>\n",
       "<style scoped>\n",
       "    .dataframe tbody tr th:only-of-type {\n",
       "        vertical-align: middle;\n",
       "    }\n",
       "\n",
       "    .dataframe tbody tr th {\n",
       "        vertical-align: top;\n",
       "    }\n",
       "\n",
       "    .dataframe thead th {\n",
       "        text-align: right;\n",
       "    }\n",
       "</style>\n",
       "<table border=\"1\" class=\"dataframe\">\n",
       "  <thead>\n",
       "    <tr style=\"text-align: right;\">\n",
       "      <th></th>\n",
       "      <th>id</th>\n",
       "      <th>toxic</th>\n",
       "      <th>severe_toxic</th>\n",
       "      <th>obscene</th>\n",
       "      <th>threat</th>\n",
       "      <th>insult</th>\n",
       "      <th>identity_hate</th>\n",
       "    </tr>\n",
       "  </thead>\n",
       "  <tbody>\n",
       "    <tr>\n",
       "      <th>0</th>\n",
       "      <td>6044863</td>\n",
       "      <td>0.004611</td>\n",
       "      <td>0.000486</td>\n",
       "      <td>0.005925</td>\n",
       "      <td>0.000143</td>\n",
       "      <td>0.001889</td>\n",
       "      <td>0.000216</td>\n",
       "    </tr>\n",
       "    <tr>\n",
       "      <th>1</th>\n",
       "      <td>6102620</td>\n",
       "      <td>0.001717</td>\n",
       "      <td>0.000638</td>\n",
       "      <td>0.003004</td>\n",
       "      <td>0.000214</td>\n",
       "      <td>0.002436</td>\n",
       "      <td>0.000659</td>\n",
       "    </tr>\n",
       "    <tr>\n",
       "      <th>2</th>\n",
       "      <td>14563293</td>\n",
       "      <td>0.000869</td>\n",
       "      <td>0.000081</td>\n",
       "      <td>0.000484</td>\n",
       "      <td>0.000051</td>\n",
       "      <td>0.000561</td>\n",
       "      <td>0.000093</td>\n",
       "    </tr>\n",
       "    <tr>\n",
       "      <th>3</th>\n",
       "      <td>21086297</td>\n",
       "      <td>0.118261</td>\n",
       "      <td>0.000676</td>\n",
       "      <td>0.002028</td>\n",
       "      <td>0.000316</td>\n",
       "      <td>0.002507</td>\n",
       "      <td>0.001171</td>\n",
       "    </tr>\n",
       "    <tr>\n",
       "      <th>4</th>\n",
       "      <td>22982444</td>\n",
       "      <td>0.000257</td>\n",
       "      <td>0.000222</td>\n",
       "      <td>0.000243</td>\n",
       "      <td>0.000451</td>\n",
       "      <td>0.000215</td>\n",
       "      <td>0.000161</td>\n",
       "    </tr>\n",
       "  </tbody>\n",
       "</table>\n",
       "</div>"
      ],
      "text/plain": [
       "         id     toxic  severe_toxic   obscene    threat    insult  \\\n",
       "0   6044863  0.004611      0.000486  0.005925  0.000143  0.001889   \n",
       "1   6102620  0.001717      0.000638  0.003004  0.000214  0.002436   \n",
       "2  14563293  0.000869      0.000081  0.000484  0.000051  0.000561   \n",
       "3  21086297  0.118261      0.000676  0.002028  0.000316  0.002507   \n",
       "4  22982444  0.000257      0.000222  0.000243  0.000451  0.000215   \n",
       "\n",
       "   identity_hate  \n",
       "0       0.000216  \n",
       "1       0.000659  \n",
       "2       0.000093  \n",
       "3       0.001171  \n",
       "4       0.000161  "
      ]
     },
     "execution_count": 10,
     "metadata": {},
     "output_type": "execute_result"
    }
   ],
   "source": [
    "char_pred.head()"
   ]
  },
  {
   "cell_type": "code",
   "execution_count": 11,
   "metadata": {
    "collapsed": true
   },
   "outputs": [
    {
     "data": {
      "text/html": [
       "<div>\n",
       "<style scoped>\n",
       "    .dataframe tbody tr th:only-of-type {\n",
       "        vertical-align: middle;\n",
       "    }\n",
       "\n",
       "    .dataframe tbody tr th {\n",
       "        vertical-align: top;\n",
       "    }\n",
       "\n",
       "    .dataframe thead th {\n",
       "        text-align: right;\n",
       "    }\n",
       "</style>\n",
       "<table border=\"1\" class=\"dataframe\">\n",
       "  <thead>\n",
       "    <tr style=\"text-align: right;\">\n",
       "      <th></th>\n",
       "      <th>id</th>\n",
       "      <th>toxic</th>\n",
       "      <th>severe_toxic</th>\n",
       "      <th>obscene</th>\n",
       "      <th>threat</th>\n",
       "      <th>insult</th>\n",
       "      <th>identity_hate</th>\n",
       "    </tr>\n",
       "  </thead>\n",
       "  <tbody>\n",
       "    <tr>\n",
       "      <th>0</th>\n",
       "      <td>6044863</td>\n",
       "      <td>0.012396</td>\n",
       "      <td>0.001535</td>\n",
       "      <td>0.005828</td>\n",
       "      <td>0.000462</td>\n",
       "      <td>0.005548</td>\n",
       "      <td>0.001601</td>\n",
       "    </tr>\n",
       "    <tr>\n",
       "      <th>1</th>\n",
       "      <td>6102620</td>\n",
       "      <td>0.008652</td>\n",
       "      <td>0.000812</td>\n",
       "      <td>0.006170</td>\n",
       "      <td>0.000401</td>\n",
       "      <td>0.004417</td>\n",
       "      <td>0.001327</td>\n",
       "    </tr>\n",
       "    <tr>\n",
       "      <th>2</th>\n",
       "      <td>14563293</td>\n",
       "      <td>0.003810</td>\n",
       "      <td>0.001084</td>\n",
       "      <td>0.003675</td>\n",
       "      <td>0.000427</td>\n",
       "      <td>0.003168</td>\n",
       "      <td>0.000930</td>\n",
       "    </tr>\n",
       "    <tr>\n",
       "      <th>3</th>\n",
       "      <td>21086297</td>\n",
       "      <td>0.037713</td>\n",
       "      <td>0.002595</td>\n",
       "      <td>0.011549</td>\n",
       "      <td>0.000540</td>\n",
       "      <td>0.011352</td>\n",
       "      <td>0.001166</td>\n",
       "    </tr>\n",
       "    <tr>\n",
       "      <th>4</th>\n",
       "      <td>22982444</td>\n",
       "      <td>0.010104</td>\n",
       "      <td>0.002050</td>\n",
       "      <td>0.005670</td>\n",
       "      <td>0.000501</td>\n",
       "      <td>0.003938</td>\n",
       "      <td>0.001761</td>\n",
       "    </tr>\n",
       "  </tbody>\n",
       "</table>\n",
       "</div>"
      ],
      "text/plain": [
       "         id     toxic  severe_toxic   obscene    threat    insult  \\\n",
       "0   6044863  0.012396      0.001535  0.005828  0.000462  0.005548   \n",
       "1   6102620  0.008652      0.000812  0.006170  0.000401  0.004417   \n",
       "2  14563293  0.003810      0.001084  0.003675  0.000427  0.003168   \n",
       "3  21086297  0.037713      0.002595  0.011549  0.000540  0.011352   \n",
       "4  22982444  0.010104      0.002050  0.005670  0.000501  0.003938   \n",
       "\n",
       "   identity_hate  \n",
       "0       0.001601  \n",
       "1       0.001327  \n",
       "2       0.000930  \n",
       "3       0.001166  \n",
       "4       0.001761  "
      ]
     },
     "execution_count": 11,
     "metadata": {},
     "output_type": "execute_result"
    }
   ],
   "source": [
    "word_pred.head()"
   ]
  },
  {
   "cell_type": "code",
   "execution_count": 32,
   "metadata": {
    "collapsed": true
   },
   "outputs": [
    {
     "data": {
      "text/html": [
       "<div>\n",
       "<style scoped>\n",
       "    .dataframe tbody tr th:only-of-type {\n",
       "        vertical-align: middle;\n",
       "    }\n",
       "\n",
       "    .dataframe tbody tr th {\n",
       "        vertical-align: top;\n",
       "    }\n",
       "\n",
       "    .dataframe thead th {\n",
       "        text-align: right;\n",
       "    }\n",
       "</style>\n",
       "<table border=\"1\" class=\"dataframe\">\n",
       "  <thead>\n",
       "    <tr style=\"text-align: right;\">\n",
       "      <th></th>\n",
       "      <th>id</th>\n",
       "      <th>toxic</th>\n",
       "      <th>severe_toxic</th>\n",
       "      <th>obscene</th>\n",
       "      <th>threat</th>\n",
       "      <th>insult</th>\n",
       "      <th>identity_hate</th>\n",
       "    </tr>\n",
       "  </thead>\n",
       "  <tbody>\n",
       "    <tr>\n",
       "      <th>0</th>\n",
       "      <td>6044863.0</td>\n",
       "      <td>0.009801</td>\n",
       "      <td>0.001185</td>\n",
       "      <td>0.005860</td>\n",
       "      <td>0.000356</td>\n",
       "      <td>0.004328</td>\n",
       "      <td>0.001139</td>\n",
       "    </tr>\n",
       "    <tr>\n",
       "      <th>1</th>\n",
       "      <td>6102620.0</td>\n",
       "      <td>0.006340</td>\n",
       "      <td>0.000754</td>\n",
       "      <td>0.005114</td>\n",
       "      <td>0.000338</td>\n",
       "      <td>0.003756</td>\n",
       "      <td>0.001104</td>\n",
       "    </tr>\n",
       "    <tr>\n",
       "      <th>2</th>\n",
       "      <td>14563293.0</td>\n",
       "      <td>0.002830</td>\n",
       "      <td>0.000750</td>\n",
       "      <td>0.002611</td>\n",
       "      <td>0.000302</td>\n",
       "      <td>0.002299</td>\n",
       "      <td>0.000651</td>\n",
       "    </tr>\n",
       "    <tr>\n",
       "      <th>3</th>\n",
       "      <td>21086297.0</td>\n",
       "      <td>0.064562</td>\n",
       "      <td>0.001956</td>\n",
       "      <td>0.008375</td>\n",
       "      <td>0.000465</td>\n",
       "      <td>0.008404</td>\n",
       "      <td>0.001168</td>\n",
       "    </tr>\n",
       "    <tr>\n",
       "      <th>4</th>\n",
       "      <td>22982444.0</td>\n",
       "      <td>0.006822</td>\n",
       "      <td>0.001441</td>\n",
       "      <td>0.003861</td>\n",
       "      <td>0.000484</td>\n",
       "      <td>0.002697</td>\n",
       "      <td>0.001228</td>\n",
       "    </tr>\n",
       "  </tbody>\n",
       "</table>\n",
       "</div>"
      ],
      "text/plain": [
       "           id     toxic  severe_toxic   obscene    threat    insult  \\\n",
       "0   6044863.0  0.009801      0.001185  0.005860  0.000356  0.004328   \n",
       "1   6102620.0  0.006340      0.000754  0.005114  0.000338  0.003756   \n",
       "2  14563293.0  0.002830      0.000750  0.002611  0.000302  0.002299   \n",
       "3  21086297.0  0.064562      0.001956  0.008375  0.000465  0.008404   \n",
       "4  22982444.0  0.006822      0.001441  0.003861  0.000484  0.002697   \n",
       "\n",
       "   identity_hate  \n",
       "0       0.001139  \n",
       "1       0.001104  \n",
       "2       0.000651  \n",
       "3       0.001168  \n",
       "4       0.001228  "
      ]
     },
     "execution_count": 32,
     "metadata": {},
     "output_type": "execute_result"
    }
   ],
   "source": [
    "# average\n",
    "average = char_pred / 3 + word_pred * 2 / 3\n",
    "average.to_csv('submissions/average_word_char_grams.csv', index=False)\n",
    "average.head()"
   ]
  },
  {
   "cell_type": "code",
   "execution_count": 20,
   "metadata": {
    "collapsed": true
   },
   "outputs": [
    {
     "name": "stdout",
     "output_type": "stream",
     "text": [
      "(226998, 6)\n",
      "(226998, 6)\n"
     ]
    }
   ],
   "source": [
    "# drop id axis\n",
    "char_in = char_pred.drop(columns=['id'], axis=1).as_matrix()\n",
    "word_in = word_pred.drop(columns=['id'], axis=1).as_matrix()\n",
    "print(char_in.shape)\n",
    "print(word_in.shape)"
   ]
  },
  {
   "cell_type": "code",
   "execution_count": 28,
   "metadata": {
    "collapsed": true
   },
   "outputs": [
    {
     "name": "stdout",
     "output_type": "stream",
     "text": [
      "(226998, 6, 2)\n"
     ]
    },
    {
     "data": {
      "text/plain": [
       "array([[[  4.61145227e-03,   1.23960687e-02],\n",
       "        [  4.85827058e-04,   1.53512666e-03],\n",
       "        [  5.92546642e-03,   5.82782948e-03],\n",
       "        [  1.42705090e-04,   4.62361831e-04],\n",
       "        [  1.88851363e-03,   5.54815478e-03],\n",
       "        [  2.16290094e-04,   1.60091793e-03]],\n",
       "\n",
       "       [[  1.71722187e-03,   8.65170368e-03],\n",
       "        [  6.37835703e-04,   8.12495562e-04],\n",
       "        [  3.00379929e-03,   6.16983731e-03],\n",
       "        [  2.13747812e-04,   4.00730180e-04],\n",
       "        [  2.43562093e-03,   4.41653520e-03],\n",
       "        [  6.59349177e-04,   1.32653059e-03]],\n",
       "\n",
       "       [[  8.69225169e-04,   3.81006830e-03],\n",
       "        [  8.09007869e-05,   1.08449343e-03],\n",
       "        [  4.83937949e-04,   3.67478586e-03],\n",
       "        [  5.07653878e-05,   4.27094120e-04],\n",
       "        [  5.60740597e-04,   3.16821045e-03],\n",
       "        [  9.27498159e-05,   9.29882111e-04]],\n",
       "\n",
       "       ..., \n",
       "       [[  1.20054532e-04,   1.14204496e-02],\n",
       "        [  1.76249233e-04,   2.19099957e-03],\n",
       "        [  7.76473994e-04,   7.36185328e-03],\n",
       "        [  2.99228330e-04,   4.63948524e-04],\n",
       "        [  5.90416113e-04,   6.68793552e-03],\n",
       "        [  6.57445618e-05,   2.35891470e-03]],\n",
       "\n",
       "       [[  9.88302687e-04,   2.82954936e-02],\n",
       "        [  6.17035207e-04,   3.04504869e-03],\n",
       "        [  1.95392711e-03,   1.04721776e-02],\n",
       "        [  1.85983630e-04,   5.62776335e-04],\n",
       "        [  1.38178745e-03,   1.17238208e-02],\n",
       "        [  1.10512260e-04,   2.13999169e-03]],\n",
       "\n",
       "       [[  6.56007318e-04,   2.13838847e-03],\n",
       "        [  1.36213780e-04,   7.92687171e-04],\n",
       "        [  1.34128709e-03,   2.53359694e-03],\n",
       "        [  3.40721522e-05,   3.81605511e-04],\n",
       "        [  4.83105308e-04,   2.18764686e-03],\n",
       "        [  1.43639144e-04,   1.24848420e-03]]])"
      ]
     },
     "execution_count": 28,
     "metadata": {},
     "output_type": "execute_result"
    }
   ],
   "source": [
    "# create combined input\n",
    "combined_in = np.stack((char_in, word_in), axis=2)\n",
    "print(combined_in.shape)\n",
    "combined_in"
   ]
  }
 ],
 "metadata": {
  "kernelspec": {
   "display_name": "Python 3",
   "language": "python",
   "name": "python3"
  },
  "language_info": {
   "codemirror_mode": {
    "name": "ipython",
    "version": 3
   },
   "file_extension": ".py",
   "mimetype": "text/x-python",
   "name": "python",
   "nbconvert_exporter": "python",
   "pygments_lexer": "ipython3",
   "version": "3.6.3"
  }
 },
 "nbformat": 4,
 "nbformat_minor": 2
}
