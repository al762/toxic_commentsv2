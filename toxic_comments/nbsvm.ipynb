{
 "cells": [
  {
   "cell_type": "code",
   "execution_count": 3,
   "metadata": {},
   "outputs": [],
   "source": [
    "import re\n",
    "import string\n",
    "import time\n",
    "import pickle\n",
    "import pandas as pd\n",
    "import numpy as np\n",
    "import NbSvmClassifier\n",
    "from sklearn.linear_model import LogisticRegression\n",
    "from sklearn.feature_extraction.text import CountVectorizer, TfidfVectorizer"
   ]
  },
  {
   "cell_type": "code",
   "execution_count": 4,
   "metadata": {},
   "outputs": [],
   "source": [
    "train = pd.read_csv('data/train.csv')\n",
    "test = pd.read_csv('data/test.csv')\n",
    "subm = pd.read_csv('submissions/sample_submission.csv')"
   ]
  },
  {
   "cell_type": "code",
   "execution_count": 5,
   "metadata": {},
   "outputs": [],
   "source": [
    "COMMENT = 'comment_text'\n",
    "def comments_preprocessing(df):\n",
    "    df[COMMENT].fillna(\"unknown\", inplace=True)\n",
    "    df[COMMENT] = df[COMMENT].apply(lambda x: str(x))\n",
    "    df[COMMENT] = df[COMMENT].apply(lambda x: x.lower())\n",
    "    # df[COMMENT] = df[COMMENT].apply(lambda x: x.translate(str.maketrans('','',string.punctuation)))\n",
    "    df[COMMENT] = df[COMMENT].apply(lambda x: x.replace('\\n',''))\n",
    "    df[COMMENT] = df[COMMENT].apply(lambda x: x.replace('\\r',''))\n",
    "    return df"
   ]
  },
  {
   "cell_type": "code",
   "execution_count": 6,
   "metadata": {},
   "outputs": [
    {
     "name": "stdout",
     "output_type": "stream",
     "text": [
      "train shape (95851, 8)\n",
      "test shape (226998, 2)\n"
     ]
    },
    {
     "data": {
      "text/html": [
       "<div>\n",
       "<style scoped>\n",
       "    .dataframe tbody tr th:only-of-type {\n",
       "        vertical-align: middle;\n",
       "    }\n",
       "\n",
       "    .dataframe tbody tr th {\n",
       "        vertical-align: top;\n",
       "    }\n",
       "\n",
       "    .dataframe thead th {\n",
       "        text-align: right;\n",
       "    }\n",
       "</style>\n",
       "<table border=\"1\" class=\"dataframe\">\n",
       "  <thead>\n",
       "    <tr style=\"text-align: right;\">\n",
       "      <th></th>\n",
       "      <th>id</th>\n",
       "      <th>comment_text</th>\n",
       "      <th>toxic</th>\n",
       "      <th>severe_toxic</th>\n",
       "      <th>obscene</th>\n",
       "      <th>threat</th>\n",
       "      <th>insult</th>\n",
       "      <th>identity_hate</th>\n",
       "    </tr>\n",
       "  </thead>\n",
       "  <tbody>\n",
       "    <tr>\n",
       "      <th>0</th>\n",
       "      <td>22256635</td>\n",
       "      <td>nonsense?  kiss off, geek. what i said is true...</td>\n",
       "      <td>1</td>\n",
       "      <td>0</td>\n",
       "      <td>0</td>\n",
       "      <td>0</td>\n",
       "      <td>0</td>\n",
       "      <td>0</td>\n",
       "    </tr>\n",
       "    <tr>\n",
       "      <th>1</th>\n",
       "      <td>27450690</td>\n",
       "      <td>\" please do not vandalize pages, as you did wi...</td>\n",
       "      <td>0</td>\n",
       "      <td>0</td>\n",
       "      <td>0</td>\n",
       "      <td>0</td>\n",
       "      <td>0</td>\n",
       "      <td>0</td>\n",
       "    </tr>\n",
       "    <tr>\n",
       "      <th>2</th>\n",
       "      <td>54037174</td>\n",
       "      <td>\" \"\"points of interest\"\" i removed the \"\"point...</td>\n",
       "      <td>0</td>\n",
       "      <td>0</td>\n",
       "      <td>0</td>\n",
       "      <td>0</td>\n",
       "      <td>0</td>\n",
       "      <td>0</td>\n",
       "    </tr>\n",
       "    <tr>\n",
       "      <th>3</th>\n",
       "      <td>77493077</td>\n",
       "      <td>asking some his nationality is a racial offenc...</td>\n",
       "      <td>0</td>\n",
       "      <td>0</td>\n",
       "      <td>0</td>\n",
       "      <td>0</td>\n",
       "      <td>0</td>\n",
       "      <td>0</td>\n",
       "    </tr>\n",
       "    <tr>\n",
       "      <th>4</th>\n",
       "      <td>79357270</td>\n",
       "      <td>the reader here is not going by my say so for ...</td>\n",
       "      <td>0</td>\n",
       "      <td>0</td>\n",
       "      <td>0</td>\n",
       "      <td>0</td>\n",
       "      <td>0</td>\n",
       "      <td>0</td>\n",
       "    </tr>\n",
       "  </tbody>\n",
       "</table>\n",
       "</div>"
      ],
      "text/plain": [
       "         id                                       comment_text  toxic  \\\n",
       "0  22256635  nonsense?  kiss off, geek. what i said is true...      1   \n",
       "1  27450690  \" please do not vandalize pages, as you did wi...      0   \n",
       "2  54037174  \" \"\"points of interest\"\" i removed the \"\"point...      0   \n",
       "3  77493077  asking some his nationality is a racial offenc...      0   \n",
       "4  79357270  the reader here is not going by my say so for ...      0   \n",
       "\n",
       "   severe_toxic  obscene  threat  insult  identity_hate  \n",
       "0             0        0       0       0              0  \n",
       "1             0        0       0       0              0  \n",
       "2             0        0       0       0              0  \n",
       "3             0        0       0       0              0  \n",
       "4             0        0       0       0              0  "
      ]
     },
     "execution_count": 6,
     "metadata": {},
     "output_type": "execute_result"
    }
   ],
   "source": [
    "train = comments_preprocessing(train)\n",
    "test = comments_preprocessing(test)\n",
    "\n",
    "print('train shape', train.shape)\n",
    "print('test shape', test.shape)\n",
    "train.head(5)"
   ]
  },
  {
   "cell_type": "code",
   "execution_count": 7,
   "metadata": {},
   "outputs": [],
   "source": [
    "re_tok = re.compile(f'([{string.punctuation}“”¨«»®´·º½¾¿¡§£₤‘’])')\n",
    "def tokenize(s): \n",
    "    output = re_tok.sub(r' \\1 ', s).split()\n",
    "    return output"
   ]
  },
  {
   "cell_type": "code",
   "execution_count": 8,
   "metadata": {},
   "outputs": [],
   "source": [
    "n = train.shape[0]\n",
    "vec = TfidfVectorizer(ngram_range=(1,2), tokenizer=tokenize,\n",
    "               min_df=3, max_df=0.9, strip_accents='unicode', use_idf=True,\n",
    "               smooth_idf=True, sublinear_tf=True)\n",
    "trn_term_doc = vec.fit_transform(train[COMMENT])\n",
    "test_term_doc = vec.transform(test[COMMENT])"
   ]
  },
  {
   "cell_type": "code",
   "execution_count": 9,
   "metadata": {},
   "outputs": [
    {
     "data": {
      "text/plain": [
       "(<95851x284039 sparse matrix of type '<class 'numpy.float64'>'\n",
       " \twith 10422196 stored elements in Compressed Sparse Row format>,\n",
       " <226998x284039 sparse matrix of type '<class 'numpy.float64'>'\n",
       " \twith 26090084 stored elements in Compressed Sparse Row format>)"
      ]
     },
     "execution_count": 9,
     "metadata": {},
     "output_type": "execute_result"
    }
   ],
   "source": [
    "trn_term_doc, test_term_doc"
   ]
  },
  {
   "cell_type": "code",
   "execution_count": 10,
   "metadata": {},
   "outputs": [],
   "source": [
    "x = trn_term_doc\n",
    "test_x = test_term_doc"
   ]
  },
  {
   "cell_type": "code",
   "execution_count": 11,
   "metadata": {},
   "outputs": [
    {
     "name": "stdout",
     "output_type": "stream",
     "text": [
      "['toxic', 'severe_toxic', 'obscene', 'threat', 'insult', 'identity_hate']\n"
     ]
    }
   ],
   "source": [
    "categories = train.columns.values.tolist()[2:]\n",
    "toxic_dataframes = [train[train[x] == 1] for x in categories]\n",
    "print(categories)"
   ]
  },
  {
   "cell_type": "code",
   "execution_count": 12,
   "metadata": {},
   "outputs": [
    {
     "name": "stdout",
     "output_type": "stream",
     "text": [
      "fit toxic\n",
      "fit severe_toxic\n",
      "fit obscene\n",
      "fit threat\n",
      "fit insult\n",
      "fit identity_hate\n"
     ]
    }
   ],
   "source": [
    "preds = pd.DataFrame({'id': test['id']})\n",
    "\n",
    "for i, col in enumerate(categories):\n",
    "    print('fit', col)\n",
    "    m = NbSvmClassifier.NbSvmClassifier()\n",
    "    m.fit(x, train[col])\n",
    "    preds[col] = m.predict_proba(test_x)[:,1]"
   ]
  },
  {
   "cell_type": "code",
   "execution_count": 13,
   "metadata": {},
   "outputs": [
    {
     "name": "stdout",
     "output_type": "stream",
     "text": [
      "preds shape (226998, 7)\n"
     ]
    },
    {
     "data": {
      "text/html": [
       "<div>\n",
       "<style scoped>\n",
       "    .dataframe tbody tr th:only-of-type {\n",
       "        vertical-align: middle;\n",
       "    }\n",
       "\n",
       "    .dataframe tbody tr th {\n",
       "        vertical-align: top;\n",
       "    }\n",
       "\n",
       "    .dataframe thead th {\n",
       "        text-align: right;\n",
       "    }\n",
       "</style>\n",
       "<table border=\"1\" class=\"dataframe\">\n",
       "  <thead>\n",
       "    <tr style=\"text-align: right;\">\n",
       "      <th></th>\n",
       "      <th>id</th>\n",
       "      <th>toxic</th>\n",
       "      <th>severe_toxic</th>\n",
       "      <th>obscene</th>\n",
       "      <th>threat</th>\n",
       "      <th>insult</th>\n",
       "      <th>identity_hate</th>\n",
       "    </tr>\n",
       "  </thead>\n",
       "  <tbody>\n",
       "    <tr>\n",
       "      <th>0</th>\n",
       "      <td>6044863</td>\n",
       "      <td>0.012396</td>\n",
       "      <td>0.001535</td>\n",
       "      <td>0.005828</td>\n",
       "      <td>0.000462</td>\n",
       "      <td>0.005548</td>\n",
       "      <td>0.001601</td>\n",
       "    </tr>\n",
       "    <tr>\n",
       "      <th>1</th>\n",
       "      <td>6102620</td>\n",
       "      <td>0.008652</td>\n",
       "      <td>0.000812</td>\n",
       "      <td>0.006170</td>\n",
       "      <td>0.000401</td>\n",
       "      <td>0.004417</td>\n",
       "      <td>0.001327</td>\n",
       "    </tr>\n",
       "    <tr>\n",
       "      <th>2</th>\n",
       "      <td>14563293</td>\n",
       "      <td>0.003810</td>\n",
       "      <td>0.001084</td>\n",
       "      <td>0.003675</td>\n",
       "      <td>0.000427</td>\n",
       "      <td>0.003168</td>\n",
       "      <td>0.000930</td>\n",
       "    </tr>\n",
       "    <tr>\n",
       "      <th>3</th>\n",
       "      <td>21086297</td>\n",
       "      <td>0.037713</td>\n",
       "      <td>0.002595</td>\n",
       "      <td>0.011549</td>\n",
       "      <td>0.000540</td>\n",
       "      <td>0.011352</td>\n",
       "      <td>0.001166</td>\n",
       "    </tr>\n",
       "    <tr>\n",
       "      <th>4</th>\n",
       "      <td>22982444</td>\n",
       "      <td>0.010104</td>\n",
       "      <td>0.002050</td>\n",
       "      <td>0.005670</td>\n",
       "      <td>0.000501</td>\n",
       "      <td>0.003938</td>\n",
       "      <td>0.001761</td>\n",
       "    </tr>\n",
       "  </tbody>\n",
       "</table>\n",
       "</div>"
      ],
      "text/plain": [
       "         id     toxic  severe_toxic   obscene    threat    insult  \\\n",
       "0   6044863  0.012396      0.001535  0.005828  0.000462  0.005548   \n",
       "1   6102620  0.008652      0.000812  0.006170  0.000401  0.004417   \n",
       "2  14563293  0.003810      0.001084  0.003675  0.000427  0.003168   \n",
       "3  21086297  0.037713      0.002595  0.011549  0.000540  0.011352   \n",
       "4  22982444  0.010104      0.002050  0.005670  0.000501  0.003938   \n",
       "\n",
       "   identity_hate  \n",
       "0       0.001601  \n",
       "1       0.001327  \n",
       "2       0.000930  \n",
       "3       0.001166  \n",
       "4       0.001761  "
      ]
     },
     "execution_count": 13,
     "metadata": {},
     "output_type": "execute_result"
    }
   ],
   "source": [
    "print('preds shape', preds.shape)\n",
    "preds.head()"
   ]
  },
  {
   "cell_type": "code",
   "execution_count": 14,
   "metadata": {},
   "outputs": [
    {
     "name": "stdout",
     "output_type": "stream",
     "text": [
      "amount marked true in each category\n",
      "toxic 9477.54735283\n",
      "severe_toxic 834.583553981\n",
      "obscene 4695.04493976\n",
      "threat 220.199829049\n",
      "insult 4324.13935953\n",
      "identity_hate 690.398633533\n"
     ]
    },
    {
     "data": {
      "text/html": [
       "<div>\n",
       "<style scoped>\n",
       "    .dataframe tbody tr th:only-of-type {\n",
       "        vertical-align: middle;\n",
       "    }\n",
       "\n",
       "    .dataframe tbody tr th {\n",
       "        vertical-align: top;\n",
       "    }\n",
       "\n",
       "    .dataframe thead th {\n",
       "        text-align: right;\n",
       "    }\n",
       "</style>\n",
       "<table border=\"1\" class=\"dataframe\">\n",
       "  <thead>\n",
       "    <tr style=\"text-align: right;\">\n",
       "      <th></th>\n",
       "      <th>id</th>\n",
       "      <th>toxic</th>\n",
       "      <th>severe_toxic</th>\n",
       "      <th>obscene</th>\n",
       "      <th>threat</th>\n",
       "      <th>insult</th>\n",
       "      <th>identity_hate</th>\n",
       "    </tr>\n",
       "  </thead>\n",
       "  <tbody>\n",
       "    <tr>\n",
       "      <th>count</th>\n",
       "      <td>2.269980e+05</td>\n",
       "      <td>226998.000000</td>\n",
       "      <td>226998.000000</td>\n",
       "      <td>226998.000000</td>\n",
       "      <td>226998.000000</td>\n",
       "      <td>226998.000000</td>\n",
       "      <td>226998.000000</td>\n",
       "    </tr>\n",
       "    <tr>\n",
       "      <th>mean</th>\n",
       "      <td>5.004979e+11</td>\n",
       "      <td>0.041752</td>\n",
       "      <td>0.003677</td>\n",
       "      <td>0.020683</td>\n",
       "      <td>0.000970</td>\n",
       "      <td>0.019049</td>\n",
       "      <td>0.003041</td>\n",
       "    </tr>\n",
       "    <tr>\n",
       "      <th>std</th>\n",
       "      <td>2.886500e+11</td>\n",
       "      <td>0.136270</td>\n",
       "      <td>0.034399</td>\n",
       "      <td>0.105617</td>\n",
       "      <td>0.015028</td>\n",
       "      <td>0.090930</td>\n",
       "      <td>0.026685</td>\n",
       "    </tr>\n",
       "    <tr>\n",
       "      <th>min</th>\n",
       "      <td>6.044863e+06</td>\n",
       "      <td>0.000042</td>\n",
       "      <td>0.000051</td>\n",
       "      <td>0.000417</td>\n",
       "      <td>0.000068</td>\n",
       "      <td>0.000034</td>\n",
       "      <td>0.000207</td>\n",
       "    </tr>\n",
       "    <tr>\n",
       "      <th>25%</th>\n",
       "      <td>2.507767e+11</td>\n",
       "      <td>0.005847</td>\n",
       "      <td>0.000912</td>\n",
       "      <td>0.003764</td>\n",
       "      <td>0.000440</td>\n",
       "      <td>0.003399</td>\n",
       "      <td>0.001162</td>\n",
       "    </tr>\n",
       "    <tr>\n",
       "      <th>50%</th>\n",
       "      <td>5.009198e+11</td>\n",
       "      <td>0.012657</td>\n",
       "      <td>0.001185</td>\n",
       "      <td>0.005729</td>\n",
       "      <td>0.000502</td>\n",
       "      <td>0.005811</td>\n",
       "      <td>0.001437</td>\n",
       "    </tr>\n",
       "    <tr>\n",
       "      <th>75%</th>\n",
       "      <td>7.503544e+11</td>\n",
       "      <td>0.025499</td>\n",
       "      <td>0.001731</td>\n",
       "      <td>0.008606</td>\n",
       "      <td>0.000578</td>\n",
       "      <td>0.009748</td>\n",
       "      <td>0.001789</td>\n",
       "    </tr>\n",
       "    <tr>\n",
       "      <th>max</th>\n",
       "      <td>9.999978e+11</td>\n",
       "      <td>1.000000</td>\n",
       "      <td>0.999960</td>\n",
       "      <td>1.000000</td>\n",
       "      <td>0.999953</td>\n",
       "      <td>1.000000</td>\n",
       "      <td>0.999999</td>\n",
       "    </tr>\n",
       "  </tbody>\n",
       "</table>\n",
       "</div>"
      ],
      "text/plain": [
       "                 id          toxic   severe_toxic        obscene  \\\n",
       "count  2.269980e+05  226998.000000  226998.000000  226998.000000   \n",
       "mean   5.004979e+11       0.041752       0.003677       0.020683   \n",
       "std    2.886500e+11       0.136270       0.034399       0.105617   \n",
       "min    6.044863e+06       0.000042       0.000051       0.000417   \n",
       "25%    2.507767e+11       0.005847       0.000912       0.003764   \n",
       "50%    5.009198e+11       0.012657       0.001185       0.005729   \n",
       "75%    7.503544e+11       0.025499       0.001731       0.008606   \n",
       "max    9.999978e+11       1.000000       0.999960       1.000000   \n",
       "\n",
       "              threat         insult  identity_hate  \n",
       "count  226998.000000  226998.000000  226998.000000  \n",
       "mean        0.000970       0.019049       0.003041  \n",
       "std         0.015028       0.090930       0.026685  \n",
       "min         0.000068       0.000034       0.000207  \n",
       "25%         0.000440       0.003399       0.001162  \n",
       "50%         0.000502       0.005811       0.001437  \n",
       "75%         0.000578       0.009748       0.001789  \n",
       "max         0.999953       1.000000       0.999999  "
      ]
     },
     "execution_count": 14,
     "metadata": {},
     "output_type": "execute_result"
    }
   ],
   "source": [
    "print('amount marked true in each category')\n",
    "for col in categories:\n",
    "    total = preds[col].sum()\n",
    "    print(col, total)\n",
    "preds.describe()"
   ]
  },
  {
   "cell_type": "code",
   "execution_count": 18,
   "metadata": {},
   "outputs": [],
   "source": [
    "# output to csv\n",
    "preds.to_csv('submissions/submission_nbsvm.csv', index=False)"
   ]
  },
  {
   "cell_type": "code",
   "execution_count": 16,
   "metadata": {},
   "outputs": [],
   "source": [
    "pickle.dump(preds, open('pickles/predictions_word_grams.p', 'wb'))"
   ]
  },
  {
   "cell_type": "code",
   "execution_count": null,
   "metadata": {},
   "outputs": [],
   "source": []
  }
 ],
 "metadata": {
  "kernelspec": {
   "display_name": "Python 3",
   "language": "python",
   "name": "python3"
  },
  "language_info": {
   "codemirror_mode": {
    "name": "ipython",
    "version": 3
   },
   "file_extension": ".py",
   "mimetype": "text/x-python",
   "name": "python",
   "nbconvert_exporter": "python",
   "pygments_lexer": "ipython3",
   "version": "3.6.3"
  }
 },
 "nbformat": 4,
 "nbformat_minor": 2
}
